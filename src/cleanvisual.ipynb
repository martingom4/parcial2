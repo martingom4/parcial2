{
 "cells": [
  {
   "cell_type": "code",
   "execution_count": 11,
   "id": "17b3bcdd",
   "metadata": {},
   "outputs": [],
   "source": [
    "import pandas as pd\n",
    "import json\n",
    "import xml.etree.ElementTree as ET\n",
    "import os"
   ]
  },
  {
   "cell_type": "code",
   "execution_count": 12,
   "id": "31dddf5d",
   "metadata": {},
   "outputs": [
    {
     "name": "stdout",
     "output_type": "stream",
     "text": [
      "\n",
      "Analizando: ../data/clean/accidentalidad_limpia.csv\n",
      "✔️ OK — 50416 filas, 19 columnas.\n",
      "\n",
      "Analizando: ../data/clean/ruta_linea154_limpia.csv\n",
      "✔️ OK — 42 filas, 4 columnas.\n",
      "\n",
      "Analizando: ../data/clean/estaciones_limpias.csv\n",
      "✔️ OK — 801 filas, 10 columnas.\n",
      "\n",
      "Analizando: ../data/clean/entradas_limpias.csv\n",
      "❌ Error al leer: No columns to parse from file\n",
      "\n",
      "Analizando: ../data/clean/merge_limpio.csv\n",
      "✔️ OK — 50416 filas, 19 columnas.\n"
     ]
    }
   ],
   "source": [
    "archivos = [\n",
    "    \"../data/clean/accidentalidad_limpia.csv\",\n",
    "    \"../data/clean/ruta_linea154_limpia.csv\",\n",
    "    \"../data/clean/estaciones_limpias.csv\",\n",
    "    \"../data/clean/entradas_limpias.csv\",\n",
    "    \"../data/clean/merge_limpio.csv\"\n",
    "]\n",
    "\n",
    "for path in archivos:\n",
    "    print(f\"\\nAnalizando: {path}\")\n",
    "    if not os.path.exists(path):\n",
    "        print(\"❌ No existe.\")\n",
    "        continue\n",
    "    try:\n",
    "        df = pd.read_csv(path)\n",
    "        if df.empty:\n",
    "            print(\"⚠️ Archivo vacío.\")\n",
    "        elif df.columns.empty:\n",
    "            print(\"⚠️ No hay columnas.\")\n",
    "        else:\n",
    "            print(f\"✔️ OK — {df.shape[0]} filas, {df.shape[1]} columnas.\")\n",
    "    except Exception as e:\n",
    "        print(\"❌ Error al leer:\", e)"
   ]
  },
  {
   "cell_type": "code",
   "execution_count": 2,
   "id": "3665a2c7",
   "metadata": {},
   "outputs": [
    {
     "name": "stdout",
     "output_type": "stream",
     "text": [
      "Cargando Excel...\n",
      "Excel cargado correctamente.\n"
     ]
    }
   ],
   "source": [
    "try:\n",
    "    print(\"Cargando Excel...\")\n",
    "    df_excel = pd.read_excel(\"../data/raw/AccidentalidadBicicletas_2024.xlsx\", engine='openpyxl')\n",
    "    df_excel.dropna(how=\"all\", inplace=True)\n",
    "    if \"FECHA\" in df_excel.columns:\n",
    "        df_excel[\"FECHA\"] = pd.to_datetime(df_excel[\"FECHA\"], errors=\"coerce\")\n",
    "    print(\"Excel cargado correctamente.\")\n",
    "except Exception as e:\n",
    "    print(\"Error al cargar Excel:\", e)\n",
    "    df_excel = pd.DataFrame()\n"
   ]
  },
  {
   "cell_type": "code",
   "execution_count": 3,
   "id": "9b65b844",
   "metadata": {},
   "outputs": [
    {
     "name": "stdout",
     "output_type": "stream",
     "text": [
      "Cargando CSV...\n",
      "CSV cargado correctamente.\n"
     ]
    }
   ],
   "source": [
    "try:\n",
    "    print(\"Cargando CSV...\")\n",
    "    df_csv = pd.read_csv(\"../data/raw/ruta_linea154.csv\", encoding=\"utf-8\")\n",
    "    df_csv.dropna(how=\"all\", inplace=True)\n",
    "    print(\"CSV cargado correctamente.\")\n",
    "except Exception as e:\n",
    "    print(\"Error al cargar CSV:\", e)\n",
    "    df_csv = pd.DataFrame()"
   ]
  },
  {
   "cell_type": "code",
   "execution_count": 9,
   "id": "f49b9673",
   "metadata": {},
   "outputs": [
    {
     "name": "stdout",
     "output_type": "stream",
     "text": [
      "Cargando JSON...\n",
      "JSON cargado correctamente.\n"
     ]
    }
   ],
   "source": [
    "try:\n",
    "    print(\"Cargando JSON...\")\n",
    "    with open(\"../data/raw/estacionesBicicletas.json\", \"r\", encoding=\"utf-8\") as f:\n",
    "        data_json = json.load(f)\n",
    "\n",
    "    # Soportar raíz como lista o como objeto con clave \"estaciones\"\n",
    "    if isinstance(data_json, list):\n",
    "        estaciones = data_json\n",
    "    elif isinstance(data_json, dict) and \"estaciones\" in data_json:\n",
    "        estaciones = data_json[\"estaciones\"]\n",
    "    else:\n",
    "        estaciones = []\n",
    "\n",
    "    if estaciones:\n",
    "        df_json = pd.json_normalize(estaciones)\n",
    "        df_json.dropna(how=\"all\", inplace=True)\n",
    "        df_json.to_csv(\"../data/clean/estaciones_limpias.csv\", index=False)\n",
    "        print(\"JSON cargado correctamente.\")\n",
    "    else:\n",
    "        print(\"Advertencia: El JSON no contenía datos válidos.\")\n",
    "        df_json = pd.DataFrame()\n",
    "\n",
    "except Exception as e:\n",
    "    print(\"Error al cargar JSON:\", e)\n",
    "    df_json = pd.DataFrame()\n"
   ]
  },
  {
   "cell_type": "code",
   "execution_count": null,
   "id": "a928da54",
   "metadata": {},
   "outputs": [
    {
     "name": "stdout",
     "output_type": "stream",
     "text": [
      "Cargando XML...\n",
      "Advertencia: El XML no contenía entradas válidas.\n"
     ]
    }
   ],
   "source": [
    "import pandas as pd\n",
    "import xml.etree.ElementTree as ET\n",
    "\n",
    "try:\n",
    "    print(\"Cargando XML...\")\n",
    "    tree = ET.parse(\"../data/raw/2024Entradas.xml\")\n",
    "    root = tree.getroot()\n",
    "\n",
    "    data_xml = []\n",
    "    for elem in root.iter():\n",
    "        if list(elem):  # Tiene hijos\n",
    "            fila = {child.tag: child.text for child in elem}\n",
    "            data_xml.append(fila)\n",
    "\n",
    "    if data_xml:\n",
    "        df_xml = pd.DataFrame(data_xml)\n",
    "        df_xml.dropna(how=\"all\", inplace=True)\n",
    "        df_xml.to_csv(\"../data/clean/entradas_limpias.csv\", index=False)\n",
    "        print(\"XML limpio guardado.\")\n",
    "    else:\n",
    "        print(\"Advertencia: el XML fue leído pero no se encontraron estructuras con datos.\")\n",
    "        df_xml = pd.DataFrame()\n",
    "except Exception as e:\n",
    "    print(\"Error al limpiar XML:\", e)\n",
    "    df_xml = pd.DataFrame()\n"
   ]
  },
  {
   "cell_type": "code",
   "execution_count": 6,
   "id": "ea876a23",
   "metadata": {},
   "outputs": [
    {
     "name": "stdout",
     "output_type": "stream",
     "text": [
      "Unificando datos por 'id' si corresponde...\n",
      "Fusión completada.\n"
     ]
    }
   ],
   "source": [
    "# === FUSIÓN / UNIÓN DE DATOS ===\n",
    "try:\n",
    "    print(\"Unificando datos por 'id' si corresponde...\")\n",
    "    if \"id\" in df_excel.columns and \"id\" in df_json.columns:\n",
    "        df_merge = pd.merge(df_excel, df_json, on=\"id\", how=\"inner\")\n",
    "    else:\n",
    "        df_merge = pd.concat([df_excel, df_json], axis=0, ignore_index=True)\n",
    "    print(\"Fusión completada.\")\n",
    "except Exception as e:\n",
    "    print(\"Error durante la fusión:\", e)\n",
    "    df_merge = df_excel\n"
   ]
  },
  {
   "cell_type": "code",
   "execution_count": 7,
   "id": "39ff32ef",
   "metadata": {},
   "outputs": [
    {
     "name": "stdout",
     "output_type": "stream",
     "text": [
      "Guardando archivos limpios en data/clean/\n",
      "Proceso de limpieza finalizado.\n"
     ]
    }
   ],
   "source": [
    "# === GUARDAR ARCHIVOS LIMPIOS ===\n",
    "print(\"Guardando archivos limpios en data/clean/\")\n",
    "df_excel.to_csv(\"../data/clean/accidentalidad_limpia.csv\", index=False)\n",
    "df_csv.to_csv(\"../data/clean/ruta_linea154_limpia.csv\", index=False)\n",
    "df_json.to_csv(\"../data/clean/estaciones_limpias.csv\", index=False)\n",
    "df_xml.to_csv(\"../data/clean/entradas_limpias.csv\", index=False)\n",
    "df_merge.to_csv(\"../data/clean/merge_limpio.csv\", index=False)\n",
    "print(\"Proceso de limpieza finalizado.\")"
   ]
  },
  {
   "cell_type": "code",
   "execution_count": 14,
   "id": "2a07fcca",
   "metadata": {},
   "outputs": [
    {
     "name": "stdout",
     "output_type": "stream",
     "text": [
      "Cargando archivos limpios desde data/clean/...\n"
     ]
    },
    {
     "ename": "EmptyDataError",
     "evalue": "No columns to parse from file",
     "output_type": "error",
     "traceback": [
      "\u001b[31m---------------------------------------------------------------------------\u001b[39m",
      "\u001b[31mEmptyDataError\u001b[39m                            Traceback (most recent call last)",
      "\u001b[36mCell\u001b[39m\u001b[36m \u001b[39m\u001b[32mIn[14]\u001b[39m\u001b[32m, line 7\u001b[39m\n\u001b[32m      5\u001b[39m df_csv = pd.read_csv(\u001b[33m\"\u001b[39m\u001b[33m../data/clean/ruta_linea154_limpia.csv\u001b[39m\u001b[33m\"\u001b[39m)\n\u001b[32m      6\u001b[39m df_json = pd.read_csv(\u001b[33m\"\u001b[39m\u001b[33m../data/clean/estaciones_limpias.csv\u001b[39m\u001b[33m\"\u001b[39m)\n\u001b[32m----> \u001b[39m\u001b[32m7\u001b[39m df_xml = \u001b[43mpd\u001b[49m\u001b[43m.\u001b[49m\u001b[43mread_csv\u001b[49m\u001b[43m(\u001b[49m\u001b[33;43m\"\u001b[39;49m\u001b[33;43m../data/clean/entradas_limpias.csv\u001b[39;49m\u001b[33;43m\"\u001b[39;49m\u001b[43m)\u001b[49m\n\u001b[32m      8\u001b[39m df_merge = pd.read_csv(\u001b[33m\"\u001b[39m\u001b[33m../data/clean/merge_limpio.csv\u001b[39m\u001b[33m\"\u001b[39m)\n\u001b[32m     10\u001b[39m \u001b[38;5;66;03m# === Visualización de las primeras filas ===\u001b[39;00m\n",
      "\u001b[36mFile \u001b[39m\u001b[32m~\\AppData\\Local\\Packages\\PythonSoftwareFoundation.Python.3.11_qbz5n2kfra8p0\\LocalCache\\local-packages\\Python311\\site-packages\\pandas\\io\\parsers\\readers.py:1026\u001b[39m, in \u001b[36mread_csv\u001b[39m\u001b[34m(filepath_or_buffer, sep, delimiter, header, names, index_col, usecols, dtype, engine, converters, true_values, false_values, skipinitialspace, skiprows, skipfooter, nrows, na_values, keep_default_na, na_filter, verbose, skip_blank_lines, parse_dates, infer_datetime_format, keep_date_col, date_parser, date_format, dayfirst, cache_dates, iterator, chunksize, compression, thousands, decimal, lineterminator, quotechar, quoting, doublequote, escapechar, comment, encoding, encoding_errors, dialect, on_bad_lines, delim_whitespace, low_memory, memory_map, float_precision, storage_options, dtype_backend)\u001b[39m\n\u001b[32m   1013\u001b[39m kwds_defaults = _refine_defaults_read(\n\u001b[32m   1014\u001b[39m     dialect,\n\u001b[32m   1015\u001b[39m     delimiter,\n\u001b[32m   (...)\u001b[39m\u001b[32m   1022\u001b[39m     dtype_backend=dtype_backend,\n\u001b[32m   1023\u001b[39m )\n\u001b[32m   1024\u001b[39m kwds.update(kwds_defaults)\n\u001b[32m-> \u001b[39m\u001b[32m1026\u001b[39m \u001b[38;5;28;01mreturn\u001b[39;00m \u001b[43m_read\u001b[49m\u001b[43m(\u001b[49m\u001b[43mfilepath_or_buffer\u001b[49m\u001b[43m,\u001b[49m\u001b[43m \u001b[49m\u001b[43mkwds\u001b[49m\u001b[43m)\u001b[49m\n",
      "\u001b[36mFile \u001b[39m\u001b[32m~\\AppData\\Local\\Packages\\PythonSoftwareFoundation.Python.3.11_qbz5n2kfra8p0\\LocalCache\\local-packages\\Python311\\site-packages\\pandas\\io\\parsers\\readers.py:620\u001b[39m, in \u001b[36m_read\u001b[39m\u001b[34m(filepath_or_buffer, kwds)\u001b[39m\n\u001b[32m    617\u001b[39m _validate_names(kwds.get(\u001b[33m\"\u001b[39m\u001b[33mnames\u001b[39m\u001b[33m\"\u001b[39m, \u001b[38;5;28;01mNone\u001b[39;00m))\n\u001b[32m    619\u001b[39m \u001b[38;5;66;03m# Create the parser.\u001b[39;00m\n\u001b[32m--> \u001b[39m\u001b[32m620\u001b[39m parser = \u001b[43mTextFileReader\u001b[49m\u001b[43m(\u001b[49m\u001b[43mfilepath_or_buffer\u001b[49m\u001b[43m,\u001b[49m\u001b[43m \u001b[49m\u001b[43m*\u001b[49m\u001b[43m*\u001b[49m\u001b[43mkwds\u001b[49m\u001b[43m)\u001b[49m\n\u001b[32m    622\u001b[39m \u001b[38;5;28;01mif\u001b[39;00m chunksize \u001b[38;5;129;01mor\u001b[39;00m iterator:\n\u001b[32m    623\u001b[39m     \u001b[38;5;28;01mreturn\u001b[39;00m parser\n",
      "\u001b[36mFile \u001b[39m\u001b[32m~\\AppData\\Local\\Packages\\PythonSoftwareFoundation.Python.3.11_qbz5n2kfra8p0\\LocalCache\\local-packages\\Python311\\site-packages\\pandas\\io\\parsers\\readers.py:1620\u001b[39m, in \u001b[36mTextFileReader.__init__\u001b[39m\u001b[34m(self, f, engine, **kwds)\u001b[39m\n\u001b[32m   1617\u001b[39m     \u001b[38;5;28mself\u001b[39m.options[\u001b[33m\"\u001b[39m\u001b[33mhas_index_names\u001b[39m\u001b[33m\"\u001b[39m] = kwds[\u001b[33m\"\u001b[39m\u001b[33mhas_index_names\u001b[39m\u001b[33m\"\u001b[39m]\n\u001b[32m   1619\u001b[39m \u001b[38;5;28mself\u001b[39m.handles: IOHandles | \u001b[38;5;28;01mNone\u001b[39;00m = \u001b[38;5;28;01mNone\u001b[39;00m\n\u001b[32m-> \u001b[39m\u001b[32m1620\u001b[39m \u001b[38;5;28mself\u001b[39m._engine = \u001b[38;5;28;43mself\u001b[39;49m\u001b[43m.\u001b[49m\u001b[43m_make_engine\u001b[49m\u001b[43m(\u001b[49m\u001b[43mf\u001b[49m\u001b[43m,\u001b[49m\u001b[43m \u001b[49m\u001b[38;5;28;43mself\u001b[39;49m\u001b[43m.\u001b[49m\u001b[43mengine\u001b[49m\u001b[43m)\u001b[49m\n",
      "\u001b[36mFile \u001b[39m\u001b[32m~\\AppData\\Local\\Packages\\PythonSoftwareFoundation.Python.3.11_qbz5n2kfra8p0\\LocalCache\\local-packages\\Python311\\site-packages\\pandas\\io\\parsers\\readers.py:1898\u001b[39m, in \u001b[36mTextFileReader._make_engine\u001b[39m\u001b[34m(self, f, engine)\u001b[39m\n\u001b[32m   1895\u001b[39m     \u001b[38;5;28;01mraise\u001b[39;00m \u001b[38;5;167;01mValueError\u001b[39;00m(msg)\n\u001b[32m   1897\u001b[39m \u001b[38;5;28;01mtry\u001b[39;00m:\n\u001b[32m-> \u001b[39m\u001b[32m1898\u001b[39m     \u001b[38;5;28;01mreturn\u001b[39;00m \u001b[43mmapping\u001b[49m\u001b[43m[\u001b[49m\u001b[43mengine\u001b[49m\u001b[43m]\u001b[49m\u001b[43m(\u001b[49m\u001b[43mf\u001b[49m\u001b[43m,\u001b[49m\u001b[43m \u001b[49m\u001b[43m*\u001b[49m\u001b[43m*\u001b[49m\u001b[38;5;28;43mself\u001b[39;49m\u001b[43m.\u001b[49m\u001b[43moptions\u001b[49m\u001b[43m)\u001b[49m\n\u001b[32m   1899\u001b[39m \u001b[38;5;28;01mexcept\u001b[39;00m \u001b[38;5;167;01mException\u001b[39;00m:\n\u001b[32m   1900\u001b[39m     \u001b[38;5;28;01mif\u001b[39;00m \u001b[38;5;28mself\u001b[39m.handles \u001b[38;5;129;01mis\u001b[39;00m \u001b[38;5;129;01mnot\u001b[39;00m \u001b[38;5;28;01mNone\u001b[39;00m:\n",
      "\u001b[36mFile \u001b[39m\u001b[32m~\\AppData\\Local\\Packages\\PythonSoftwareFoundation.Python.3.11_qbz5n2kfra8p0\\LocalCache\\local-packages\\Python311\\site-packages\\pandas\\io\\parsers\\c_parser_wrapper.py:93\u001b[39m, in \u001b[36mCParserWrapper.__init__\u001b[39m\u001b[34m(self, src, **kwds)\u001b[39m\n\u001b[32m     90\u001b[39m \u001b[38;5;28;01mif\u001b[39;00m kwds[\u001b[33m\"\u001b[39m\u001b[33mdtype_backend\u001b[39m\u001b[33m\"\u001b[39m] == \u001b[33m\"\u001b[39m\u001b[33mpyarrow\u001b[39m\u001b[33m\"\u001b[39m:\n\u001b[32m     91\u001b[39m     \u001b[38;5;66;03m# Fail here loudly instead of in cython after reading\u001b[39;00m\n\u001b[32m     92\u001b[39m     import_optional_dependency(\u001b[33m\"\u001b[39m\u001b[33mpyarrow\u001b[39m\u001b[33m\"\u001b[39m)\n\u001b[32m---> \u001b[39m\u001b[32m93\u001b[39m \u001b[38;5;28mself\u001b[39m._reader = \u001b[43mparsers\u001b[49m\u001b[43m.\u001b[49m\u001b[43mTextReader\u001b[49m\u001b[43m(\u001b[49m\u001b[43msrc\u001b[49m\u001b[43m,\u001b[49m\u001b[43m \u001b[49m\u001b[43m*\u001b[49m\u001b[43m*\u001b[49m\u001b[43mkwds\u001b[49m\u001b[43m)\u001b[49m\n\u001b[32m     95\u001b[39m \u001b[38;5;28mself\u001b[39m.unnamed_cols = \u001b[38;5;28mself\u001b[39m._reader.unnamed_cols\n\u001b[32m     97\u001b[39m \u001b[38;5;66;03m# error: Cannot determine type of 'names'\u001b[39;00m\n",
      "\u001b[36mFile \u001b[39m\u001b[32mparsers.pyx:581\u001b[39m, in \u001b[36mpandas._libs.parsers.TextReader.__cinit__\u001b[39m\u001b[34m()\u001b[39m\n",
      "\u001b[31mEmptyDataError\u001b[39m: No columns to parse from file"
     ]
    }
   ],
   "source": [
    "# === Cargar los archivos limpios ===\n",
    "print(\"Cargando archivos limpios desde data/clean/...\")\n",
    "\n",
    "df_excel = pd.read_csv(\"../data/clean/accidentalidad_limpia.csv\")\n",
    "df_csv = pd.read_csv(\"../data/clean/ruta_linea154_limpia.csv\")\n",
    "df_json = pd.read_csv(\"../data/clean/estaciones_limpias.csv\")\n",
    "df_xml = pd.read_csv(\"../data/clean/entradas_limpias.csv\")\n",
    "df_merge = pd.read_csv(\"../data/clean/merge_limpio.csv\")\n",
    "\n",
    "# === Visualización de las primeras filas ===\n",
    "print(\"\\n=== Accidentalidad (Excel limpio) ===\")\n",
    "print(df_excel.head())\n",
    "\n",
    "print(\"\\n=== Ruta Línea 154 (CSV limpio) ===\")\n",
    "print(df_csv.head())\n",
    "\n",
    "print(\"\\n=== Estaciones (JSON limpio) ===\")\n",
    "print(df_json.head())\n",
    "\n",
    "print(\"\\n=== Entradas (XML limpio) ===\")\n",
    "print(df_xml.head())\n",
    "\n",
    "print(\"\\n=== Datos fusionados (Merge) ===\")\n",
    "print(df_merge.head())\n"
   ]
  }
 ],
 "metadata": {
  "kernelspec": {
   "display_name": "Python 3",
   "language": "python",
   "name": "python3"
  },
  "language_info": {
   "codemirror_mode": {
    "name": "ipython",
    "version": 3
   },
   "file_extension": ".py",
   "mimetype": "text/x-python",
   "name": "python",
   "nbconvert_exporter": "python",
   "pygments_lexer": "ipython3",
   "version": "3.11.9"
  }
 },
 "nbformat": 4,
 "nbformat_minor": 5
}
